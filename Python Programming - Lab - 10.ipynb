{
 "cells": [
  {
   "cell_type": "markdown",
   "metadata": {},
   "source": [
    "<a href='https://www.darshan.ac.in/'> <img src='https://www.darshan.ac.in/Content/media/DU_Logo.svg' width=\"250\" height=\"300\"/></a>\n",
    "<pre>\n",
    "<center><b><h1>Python Programming - 2301CS404</b></center>\n",
    "<center><b><h1>Lab - 10</b></center>    \n",
    "<pre>"
   ]
  },
  {
   "cell_type": "markdown",
   "metadata": {},
   "source": [
    "# Exception Handling"
   ]
  },
  {
   "cell_type": "markdown",
   "metadata": {},
   "source": [
    "### 01) WAP to handle following exceptions:\n",
    "1. ZeroDivisionError\n",
    "2. ValueError\n",
    "3. TypeError\n",
    "#### Note: handle them using separate except blocks and also using single except block too."
   ]
  },
  {
   "cell_type": "code",
   "execution_count": null,
   "metadata": {},
   "outputs": [
    {
     "name": "stdout",
     "output_type": "stream",
     "text": [
      "Divide by Zero Error.\n",
      "Type error occurred\n",
      "Value error occurred\n",
      "Some error occurred\n"
     ]
    }
   ],
   "source": [
    "#divide by zero error\n",
    "try:\n",
    "    print(10/0)\n",
    "except ZeroDivisionError:\n",
    "    print('Divide by Zero Error.')\n",
    "\n",
    "#type error\n",
    "try:\n",
    "    s = 'Dhruv'\n",
    "    print(100/s)\n",
    "except TypeError:\n",
    "    print(\"Type error occurred\")\n",
    "\n",
    "#value error\n",
    "try:\n",
    "    lst = [\"Hello\",\"hi\",\"something\"]\n",
    "    a,b,c,d,= lst\n",
    "    print(f'{a},{b},{c}')\n",
    "except ValueError:\n",
    "    print(\"Value error occurred\")\n",
    "\n",
    "#single catch\n",
    "try:\n",
    "    print(10/0)\n",
    "except:\n",
    "    print(\"Some error occurred\")\n"
   ]
  },
  {
   "cell_type": "markdown",
   "metadata": {},
   "source": [
    "### 02)  WAP to handle following exceptions:\n",
    "1. IndexError\n",
    "2. KeyError"
   ]
  },
  {
   "cell_type": "code",
   "execution_count": 10,
   "metadata": {},
   "outputs": [
    {
     "name": "stdout",
     "output_type": "stream",
     "text": [
      "Index error has occurred\n",
      "Key Error occurred\n"
     ]
    }
   ],
   "source": [
    "lst = [\"a\",\"b\",\"c\",\"d\"]\n",
    "\n",
    "try:\n",
    "    print(lst[4])\n",
    "except IndexError:\n",
    "    print(\"Index error has occurred\")\n",
    "\n",
    "mp = {1 : \"a\",2:\"b\"}\n",
    "\n",
    "try:\n",
    "    print(mp[3])\n",
    "except KeyError:\n",
    "    print(\"Key Error occurred\")"
   ]
  },
  {
   "cell_type": "markdown",
   "metadata": {},
   "source": [
    "### 03) WAP to handle following exceptions:\n",
    "1. FileNotFoundError\n",
    "2. ModuleNotFoundError"
   ]
  },
  {
   "cell_type": "code",
   "execution_count": 14,
   "metadata": {},
   "outputs": [
    {
     "name": "stdout",
     "output_type": "stream",
     "text": [
      "File not found error\n",
      "Module not found error\n"
     ]
    }
   ],
   "source": [
    "try:\n",
    "    fp = open('temp.txt','r')\n",
    "except FileNotFoundError:\n",
    "    print('File not found error')\n",
    "\n",
    "try:\n",
    "    import mdth as m\n",
    "except ModuleNotFoundError:\n",
    "    print('Module not found error')\n",
    "\n"
   ]
  },
  {
   "cell_type": "markdown",
   "metadata": {},
   "source": [
    "### 04) WAP that catches all type of exceptions in a single except block."
   ]
  },
  {
   "cell_type": "code",
   "execution_count": 15,
   "metadata": {},
   "outputs": [
    {
     "name": "stdout",
     "output_type": "stream",
     "text": [
      "Some error occurred\n"
     ]
    }
   ],
   "source": [
    "try:\n",
    "    print(10/0)\n",
    "    import mrth\n",
    "except:\n",
    "    print(\"Some error occurred\")"
   ]
  },
  {
   "cell_type": "markdown",
   "metadata": {},
   "source": [
    "### 05) WAP to demonstrate else  and finally block."
   ]
  },
  {
   "cell_type": "code",
   "execution_count": 18,
   "metadata": {},
   "outputs": [
    {
     "name": "stdout",
     "output_type": "stream",
     "text": [
      "Some Exception\n"
     ]
    }
   ],
   "source": [
    "try:\n",
    "    n = int(input(\"Enter number\"))\n",
    "    print(10/n)\n",
    "except:\n",
    "    print('Some Exception')\n",
    "else:\n",
    "    print('Program succesfully run')\n"
   ]
  },
  {
   "cell_type": "markdown",
   "metadata": {},
   "source": [
    "### 06) Create a short program that prompts the user for a list of grades separated by commas. \n",
    "### Split the string into individual grades and use a list comprehension to convert each string to an integer. \n",
    "### You should use a try statement to inform the user when the values they entered cannot be converted."
   ]
  },
  {
   "cell_type": "code",
   "execution_count": null,
   "metadata": {},
   "outputs": [],
   "source": [
    "str = input('Enter grades comma seprated : ')\n",
    "\n",
    "try:\n",
    "    lst = str.split(',')\n",
    "    lst = [int(item) for item in lst]\n",
    "    print(lst)\n",
    "except:\n",
    "    print('Some error')"
   ]
  },
  {
   "cell_type": "markdown",
   "metadata": {},
   "source": [
    "### 07) WAP to create an udf divide(a,b) that handles ZeroDivisionError."
   ]
  },
  {
   "cell_type": "code",
   "execution_count": 23,
   "metadata": {},
   "outputs": [
    {
     "name": "stdout",
     "output_type": "stream",
     "text": [
      "1.0\n",
      "Can not divide by zero.\n"
     ]
    }
   ],
   "source": [
    "def divideNum(a,b):\n",
    "    try:\n",
    "        print(a/b)\n",
    "    except ZeroDivisionError:\n",
    "        print('Can not divide by zero.')\n",
    "    \n",
    "\n",
    "divideNum(2,2)\n",
    "divideNum(2,0)"
   ]
  },
  {
   "cell_type": "markdown",
   "metadata": {},
   "source": [
    "### 08) WAP that gets an age of a person form the user and raises ValueError with error message: \"Enter Valid Age\" :\n",
    "#### If the age is less than 18. \n",
    "#### otherwise print the age."
   ]
  },
  {
   "cell_type": "code",
   "execution_count": 26,
   "metadata": {},
   "outputs": [
    {
     "name": "stdout",
     "output_type": "stream",
     "text": [
      "Enter valid age\n"
     ]
    }
   ],
   "source": [
    "age = int(input('Enter age : '))\n",
    "\n",
    "if(age < 18):\n",
    "    try:\n",
    "        raise ValueError('Enter valid age')\n",
    "    except ValueError as v:\n",
    "        print(v)\n"
   ]
  },
  {
   "cell_type": "markdown",
   "metadata": {},
   "source": [
    "### 09) WAP to raise your custom Exception named InvalidUsernameError with the error message : \"Username must be between 5 and 15 characters long\":\n",
    "#### if the given name is having characters less than 5 or greater than 15.\n",
    "#### otherwise print the given username."
   ]
  },
  {
   "cell_type": "code",
   "execution_count": 30,
   "metadata": {},
   "outputs": [
    {
     "name": "stdout",
     "output_type": "stream",
     "text": [
      "Username must be 5 to 15 char long\n"
     ]
    }
   ],
   "source": [
    "username = input('Enter username')\n",
    "\n",
    "class InvalidUsername(Exception):\n",
    "    pass\n",
    "if(len(username) < 5 or len(username) > 15):\n",
    "    try:\n",
    "        raise InvalidUsername('Username must be 5 to 15 char long')\n",
    "    except InvalidUsername as ivn:\n",
    "        print(ivn)"
   ]
  },
  {
   "cell_type": "markdown",
   "metadata": {},
   "source": [
    "### 10) WAP to raise your custom Exception named NegativeNumberError with the error message : \"Cannot calculate the square root of a negative number\" :\n",
    "#### if the given number is negative.\n",
    "#### otherwise print the square root of the given number."
   ]
  },
  {
   "cell_type": "code",
   "execution_count": 32,
   "metadata": {},
   "outputs": [
    {
     "name": "stdout",
     "output_type": "stream",
     "text": [
      "can not calculate square root \n"
     ]
    }
   ],
   "source": [
    "num = int(input('Enter num'))\n",
    "\n",
    "class NegativeNumError(Exception):\n",
    "    pass\n",
    "\n",
    "try:\n",
    "    if(num < 0):\n",
    "        raise NegativeNumError('can not calculate square root ')\n",
    "    else:\n",
    "        print(num ** 1/2)\n",
    "except NegativeNumError as ne:\n",
    "    print(ne)\n",
    "\n"
   ]
  },
  {
   "cell_type": "code",
   "execution_count": null,
   "metadata": {},
   "outputs": [],
   "source": []
  }
 ],
 "metadata": {
  "kernelspec": {
   "display_name": "Python 3",
   "language": "python",
   "name": "python3"
  },
  "language_info": {
   "codemirror_mode": {
    "name": "ipython",
    "version": 3
   },
   "file_extension": ".py",
   "mimetype": "text/x-python",
   "name": "python",
   "nbconvert_exporter": "python",
   "pygments_lexer": "ipython3",
   "version": "3.12.2"
  }
 },
 "nbformat": 4,
 "nbformat_minor": 4
}
