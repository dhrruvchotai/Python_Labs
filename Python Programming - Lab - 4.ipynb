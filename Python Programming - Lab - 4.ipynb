{
 "cells": [
  {
   "cell_type": "markdown",
   "metadata": {},
   "source": [
    "\n",
    "<a href='https://www.darshan.ac.in/'> <img src='https://www.darshan.ac.in/Content/media/DU_Logo.svg' width=\"250\" height=\"300\"/></a>\n",
    "<pre>\n",
    "<center><b><h1>Python Programming - 2301CS404</b></center>\n",
    "<center><b><h1>Lab - 4</b></center>    \n",
    "<pre>"
   ]
  },
  {
   "cell_type": "markdown",
   "metadata": {},
   "source": [
    "# String"
   ]
  },
  {
   "cell_type": "markdown",
   "metadata": {},
   "source": [
    "### 01) WAP to check whether the given string is palindrome or not."
   ]
  },
  {
   "cell_type": "code",
   "execution_count": null,
   "metadata": {},
   "outputs": [],
   "source": [
    "s = input('Enter a string : ')\n",
    "if(s == s[::-1]):\n",
    "    print('String is palindrome.')\n",
    "else:\n",
    "    print('Not palindrome.')"
   ]
  },
  {
   "cell_type": "markdown",
   "metadata": {},
   "source": [
    "### 02) WAP to reverse the words in the given string."
   ]
  },
  {
   "cell_type": "code",
   "execution_count": 13,
   "metadata": {},
   "outputs": [
    {
     "name": "stdout",
     "output_type": "stream",
     "text": [
      "New Sting : hello dhruv\n"
     ]
    }
   ],
   "source": [
    "s = input('Enter a string : ')\n",
    "a = s.split(' ')\n",
    "\n",
    "a.reverse()\n",
    "new = ' '.join(a)\n",
    "\n",
    "print(f\"New Sting : {new}\")\n",
    "\n",
    "\n",
    "# for i in a:\n",
    "#     print(i[::-1],end=\" \")\n",
    "    "
   ]
  },
  {
   "cell_type": "markdown",
   "metadata": {},
   "source": [
    "### 03) WAP to remove ith character from given string."
   ]
  },
  {
   "cell_type": "code",
   "execution_count": 36,
   "metadata": {},
   "outputs": [
    {
     "name": "stdout",
     "output_type": "stream",
     "text": [
      "dhruv\n"
     ]
    }
   ],
   "source": [
    "s = input('Enter a string : ')\n",
    "a = int(input('Enter a pos : '))\n",
    "\n",
    "t = s[:a] + s[a+1:]\n",
    "print(t)\n",
    "\n"
   ]
  },
  {
   "cell_type": "markdown",
   "metadata": {},
   "source": [
    "### 04) WAP to find length of string without using len function."
   ]
  },
  {
   "cell_type": "code",
   "execution_count": 18,
   "metadata": {},
   "outputs": [
    {
     "name": "stdout",
     "output_type": "stream",
     "text": [
      "count is : 5\n"
     ]
    }
   ],
   "source": [
    "s = input('Enter a string :')\n",
    "count = 0\n",
    "for i in s:\n",
    "    count += 1\n",
    "\n",
    "print(f'len is : {count}')"
   ]
  },
  {
   "cell_type": "markdown",
   "metadata": {},
   "source": [
    "### 05) WAP to print even length word in string."
   ]
  },
  {
   "cell_type": "code",
   "execution_count": 19,
   "metadata": {},
   "outputs": [
    {
     "name": "stdout",
     "output_type": "stream",
     "text": [
      "mann\n",
      "is\n",
      "good\n"
     ]
    }
   ],
   "source": [
    "s = input('Enter a String : ')\n",
    "a = s.split(' ')\n",
    "\n",
    "for i in a:\n",
    "    if(len(i) % 2 == 0):\n",
    "        print(i)"
   ]
  },
  {
   "cell_type": "markdown",
   "metadata": {},
   "source": [
    "### 06) WAP to count numbers of vowels in given string."
   ]
  },
  {
   "cell_type": "code",
   "execution_count": 24,
   "metadata": {},
   "outputs": [
    {
     "name": "stdout",
     "output_type": "stream",
     "text": [
      "Vowel count : 1\n"
     ]
    }
   ],
   "source": [
    "s = input('Enter a string : ')\n",
    "count = 0\n",
    "\n",
    "for i in s:\n",
    "    if(i == 'a' or i == 'e' or i == 'i' or i == 'o' or i == 'u'):\n",
    "        count += 1\n",
    "\n",
    "print(f'Vowel count : {count}')"
   ]
  },
  {
   "cell_type": "markdown",
   "metadata": {},
   "source": [
    "### 07) WAP to capitalize the first and last character of each word in a string."
   ]
  },
  {
   "cell_type": "code",
   "execution_count": 45,
   "metadata": {},
   "outputs": [
    {
     "name": "stdout",
     "output_type": "stream",
     "text": [
      "DhruV IS GooD\n"
     ]
    }
   ],
   "source": [
    "s = input('Enter a String :').title().split(' ')\n",
    "ans = []\n",
    "\n",
    "for i in s:\n",
    "    ans.append(i[:len(i) -1] + i[len(i) -1].upper())\n",
    "\n",
    "print(' '.join(ans))\n",
    "\n"
   ]
  },
  {
   "cell_type": "markdown",
   "metadata": {},
   "source": [
    "### 08) WAP to convert given array to string."
   ]
  },
  {
   "cell_type": "code",
   "execution_count": 64,
   "metadata": {},
   "outputs": [
    {
     "name": "stdout",
     "output_type": "stream",
     "text": [
      "123dhruv\n"
     ]
    }
   ],
   "source": [
    "a = [1,2,3,'dhruv']\n",
    "ans = ''\n",
    "\n",
    "for i in a:\n",
    "    ans = ans + f\"{i}\"\n",
    "\n",
    "print(ans)\n"
   ]
  },
  {
   "cell_type": "markdown",
   "metadata": {},
   "source": [
    "### 09) Check if the password and confirm password is same or not. \n",
    "### In case of only case's mistake, show the error message."
   ]
  },
  {
   "cell_type": "code",
   "execution_count": 67,
   "metadata": {},
   "outputs": [
    {
     "name": "stdout",
     "output_type": "stream",
     "text": [
      "both are not same\n"
     ]
    }
   ],
   "source": [
    "password = input('Enter pass')\n",
    "confirmPass = input('Enter confirm password ')\n",
    "\n",
    "if(password == confirmPass):\n",
    "    print('Both are same.')\n",
    "elif(password.lower() == confirmPass.lower()):\n",
    "    print('case error')\n",
    "else:\n",
    "    print('both are not same')"
   ]
  },
  {
   "cell_type": "markdown",
   "metadata": {},
   "source": [
    "### 10) : Display credit card number. \n",
    "### card no. : 1234 5678 9012 3456\n",
    "### display as  : **** **** **** 3456"
   ]
  },
  {
   "cell_type": "code",
   "execution_count": 71,
   "metadata": {},
   "outputs": [
    {
     "name": "stdout",
     "output_type": "stream",
     "text": [
      "**** **** **** 1234\n"
     ]
    }
   ],
   "source": [
    "s = input('Enter card no : ').split()\n",
    "\n",
    "for i in range(len(s) - 1):\n",
    "    s[i] = \"*\"*4\n",
    "\n",
    "print(' '.join(s))\n",
    "\n"
   ]
  },
  {
   "cell_type": "markdown",
   "metadata": {},
   "source": [
    "### 11) : Checking if the two strings are Anagram or not.\n",
    "### s1 = decimal and s2 = medical are Anagram"
   ]
  },
  {
   "cell_type": "code",
   "execution_count": null,
   "metadata": {},
   "outputs": [
    {
     "name": "stdout",
     "output_type": "stream",
     "text": [
      "Anagrams\n",
      "Anagrams\n"
     ]
    }
   ],
   "source": [
    "#1.\n",
    "s1 = input(\"Enter s1:\").lower()\n",
    "s2 = input('Enter s2 : ').lower()\n",
    "\n",
    "if(sorted(s1) == sorted(s2)):\n",
    "    print('Anagrams')\n",
    "else:\n",
    "    print('Not Anagrams.')\n",
    "\n",
    "#2.\n",
    "ans = True\n",
    "for i in s1:\n",
    "    if(s2.find(i) < 0):\n",
    "        ans = False\n",
    "\n",
    "if(ans):print('Anagrams')\n",
    "else:print('Not Anagrams')"
   ]
  },
  {
   "cell_type": "markdown",
   "metadata": {},
   "source": [
    "### 12) : Rearrange the given string. First lowercase then uppercase alphabets.\n",
    "### input : EHlsarwiwhtwMV\n",
    "### output : lsarwiwhtwEHMV"
   ]
  },
  {
   "cell_type": "code",
   "execution_count": 76,
   "metadata": {},
   "outputs": [
    {
     "name": "stdout",
     "output_type": "stream",
     "text": [
      "hrurhanknDDHNF\n"
     ]
    }
   ],
   "source": [
    "s = input('Enter a string : ')\n",
    "lower = \"\"\n",
    "upper = \"\"\n",
    "\n",
    "for i in s:\n",
    "    if i.islower():\n",
    "        lower += i\n",
    "    else:\n",
    "        upper += i\n",
    "\n",
    "print(lower + upper)\n"
   ]
  }
 ],
 "metadata": {
  "kernelspec": {
   "display_name": "Python 3",
   "language": "python",
   "name": "python3"
  },
  "language_info": {
   "codemirror_mode": {
    "name": "ipython",
    "version": 3
   },
   "file_extension": ".py",
   "mimetype": "text/x-python",
   "name": "python",
   "nbconvert_exporter": "python",
   "pygments_lexer": "ipython3",
   "version": "3.12.2"
  }
 },
 "nbformat": 4,
 "nbformat_minor": 4
}
